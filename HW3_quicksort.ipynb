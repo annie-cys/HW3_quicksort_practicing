{
  "cells": [
    {
      "cell_type": "code",
      "execution_count": 32,
      "metadata": {
        "id": "hA3VeC-nsQ-5"
      },
      "outputs": [],
      "source": [
        "def quickSortBlock(array):\n",
        "  base = array[0]\n",
        "  print('現在base是', base)\n",
        "  base_list = [base]\n",
        "  array_left = [ ]\n",
        "  array_right = [ ]\n",
        "  if len(array) == 1:\n",
        "    return base_list\n",
        "  else :\n",
        "    for i in range(1, len(array), 1):\n",
        "      if array[i] < base :\n",
        "        array_left.append(array[i])\n",
        "        print('現在在array_left加上', array[i])\n",
        "      elif array[i] > base :\n",
        "        array_right.append(array[i])\n",
        "        print('現在在array_right加上', array[i])\n",
        "\n",
        "  return array_left , base_list , array_right\n"
      ]
    },
    {
      "cell_type": "code",
      "execution_count": 33,
      "metadata": {
        "id": "kFaDFi_Fz_D_"
      },
      "outputs": [],
      "source": [
        "array = [33, 67, 8, 13, 54, 119, 3, 84, 25, 41]"
      ]
    },
    {
      "cell_type": "code",
      "source": [
        "result1 = quickSortBlock(array)\n",
        "print(result1)\n",
        "print('目前進度 :', (result1[0]+ result1[1] +result1[2]) )\n",
        "result2_1 = quickSortBlock(result1[0])\n",
        "print(result2_1)\n",
        "result2_2 = quickSortBlock(result1[2])\n",
        "print(result2_2)\n",
        "print('目前進度 :', (result2_1[0]+ result2_1[1] +result2_1[2]) + result1[1] + (result2_2[0]+ result2_2[1] +result2_2[2]) )\n",
        "result3_1 = quickSortBlock(result2_1[0])\n",
        "print(result3_1)\n",
        "result3_2 = quickSortBlock(result2_1[2])\n",
        "print(result3_2)\n",
        "result3_3 = quickSortBlock(result2_2[0])\n",
        "print(result3_3)\n",
        "result3_4 = quickSortBlock(result2_2[2])\n",
        "print(result3_4)\n",
        "\n",
        "sorted_list = [ ]\n",
        "for i in range(len(result3_1)):\n",
        "  if len(result3_1) == 1:\n",
        "    sorted_list.append(result3_1)\n",
        "  elif len(result3_1[i]) != 0:\n",
        "    sorted_list.append(result3_1[i])\n",
        "\n",
        "sorted_list.append(result2_1[1])\n",
        "for i in range(len(result3_2)):\n",
        "  if len(result3_2) == 1:\n",
        "    sorted_list.append(result3_2)\n",
        "  elif len(result3_2[i]) != 0:\n",
        "    sorted_list.append(result3_2[i])\n",
        "sorted_list.append(result1[1])\n",
        "for i in range(len(result3_3)):\n",
        "  if len(result3_3) == 1:\n",
        "    sorted_list.append(result3_3)\n",
        "  elif len(result3_3[i]) != 0:\n",
        "    sorted_list.append(result3_3[i])\n",
        "sorted_list.append(result2_2[1])\n",
        "for i in range(len(result3_4)):\n",
        "  if len(result3_4) == 1:\n",
        "    sorted_list.append(result3_4)\n",
        "  elif len(result3_4[i]) != 0:\n",
        "    sorted_list.append(result3_4[i])\n",
        "sorted_list\n",
        "sorted_list_final = [ ]\n",
        "for s in sorted_list:\n",
        "  sorted_list_final.append(s[0])\n",
        "\n",
        "sorted_list_final"
      ],
      "metadata": {
        "colab": {
          "base_uri": "https://localhost:8080/"
        },
        "id": "WlmGRbx0wS7q",
        "outputId": "a6823f8e-db4e-43f7-9d7d-5646b4e171a8"
      },
      "execution_count": 49,
      "outputs": [
        {
          "output_type": "stream",
          "name": "stdout",
          "text": [
            "現在base是 33\n",
            "現在在array_right加上 67\n",
            "現在在array_left加上 8\n",
            "現在在array_left加上 13\n",
            "現在在array_right加上 54\n",
            "現在在array_right加上 119\n",
            "現在在array_left加上 3\n",
            "現在在array_right加上 84\n",
            "現在在array_left加上 25\n",
            "現在在array_right加上 41\n",
            "([8, 13, 3, 25], [33], [67, 54, 119, 84, 41])\n",
            "目前進度 : [8, 13, 3, 25, 33, 67, 54, 119, 84, 41]\n",
            "現在base是 8\n",
            "現在在array_right加上 13\n",
            "現在在array_left加上 3\n",
            "現在在array_right加上 25\n",
            "([3], [8], [13, 25])\n",
            "現在base是 67\n",
            "現在在array_left加上 54\n",
            "現在在array_right加上 119\n",
            "現在在array_right加上 84\n",
            "現在在array_left加上 41\n",
            "([54, 41], [67], [119, 84])\n",
            "目前進度 : [3, 8, 13, 25, 33, 54, 41, 67, 119, 84]\n",
            "現在base是 3\n",
            "[3]\n",
            "現在base是 13\n",
            "現在在array_right加上 25\n",
            "([], [13], [25])\n",
            "現在base是 54\n",
            "現在在array_left加上 41\n",
            "([41], [54], [])\n",
            "現在base是 119\n",
            "現在在array_left加上 84\n",
            "([84], [119], [])\n"
          ]
        },
        {
          "output_type": "execute_result",
          "data": {
            "text/plain": [
              "[3, 8, 13, 25, 33, 41, 54, 67, 84, 119]"
            ]
          },
          "metadata": {},
          "execution_count": 49
        }
      ]
    }
  ],
  "metadata": {
    "colab": {
      "provenance": []
    },
    "kernelspec": {
      "display_name": "Python 3",
      "name": "python3"
    },
    "language_info": {
      "name": "python"
    }
  },
  "nbformat": 4,
  "nbformat_minor": 0
}