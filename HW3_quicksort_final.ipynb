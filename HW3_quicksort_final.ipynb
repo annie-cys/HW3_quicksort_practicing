{
  "nbformat": 4,
  "nbformat_minor": 0,
  "metadata": {
    "colab": {
      "provenance": []
    },
    "kernelspec": {
      "name": "python3",
      "display_name": "Python 3"
    },
    "language_info": {
      "name": "python"
    }
  },
  "cells": [
    {
      "cell_type": "markdown",
      "source": [
        "### 定義快速演算法函式"
      ],
      "metadata": {
        "id": "uTINxCSXnnPr"
      }
    },
    {
      "cell_type": "code",
      "execution_count": 1,
      "metadata": {
        "id": "v4rJ0ef4ma8Y"
      },
      "outputs": [],
      "source": [
        "def quickSorting(array):\n",
        "    # 遞迴終止條件\n",
        "    if len(array) <= 1:\n",
        "        return array\n",
        "\n",
        "    base = array[0]\n",
        "    array_left = []\n",
        "    array_right = []\n",
        "\n",
        "    for i in range(1, len(array)):\n",
        "        if array[i] < base:\n",
        "            array_left.append(array[i])\n",
        "        else:\n",
        "            array_right.append(array[i])\n",
        "\n",
        "    # 遞迴呼叫並合併結果\n",
        "    return quickSorting(array_left) + [base] + quickSorting(array_right)\n",
        "\n",
        "\n",
        "\n"
      ]
    },
    {
      "cell_type": "markdown",
      "source": [
        "### 老師給的Demo範例"
      ],
      "metadata": {
        "id": "BMMbZ__MnuwJ"
      }
    },
    {
      "cell_type": "code",
      "source": [
        "array = [33, 67, 8, 13, 54, 119, 3, 84, 25, 41]"
      ],
      "metadata": {
        "id": "dU7hyGmlm1yC"
      },
      "execution_count": 2,
      "outputs": []
    },
    {
      "cell_type": "markdown",
      "source": [
        "### 定義程式進入點"
      ],
      "metadata": {
        "id": "jP3sKBpNn2aA"
      }
    },
    {
      "cell_type": "code",
      "source": [
        "def main():\n",
        "  print(quickSorting(array))\n",
        ""
      ],
      "metadata": {
        "id": "Minmts29mgc7"
      },
      "execution_count": 4,
      "outputs": []
    },
    {
      "cell_type": "code",
      "source": [
        "if __name__ == \"__main__\":\n",
        "  main()"
      ],
      "metadata": {
        "colab": {
          "base_uri": "https://localhost:8080/"
        },
        "id": "WtBGtA0YnaPt",
        "outputId": "c69f5b55-faf3-4ef5-bbaf-59f0f8402d66"
      },
      "execution_count": 5,
      "outputs": [
        {
          "output_type": "stream",
          "name": "stdout",
          "text": [
            "[3, 8, 13, 25, 33, 41, 54, 67, 84, 119]\n"
          ]
        }
      ]
    }
  ]
}